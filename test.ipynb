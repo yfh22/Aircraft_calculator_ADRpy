{
 "cells": [
  {
   "cell_type": "code",
   "execution_count": null,
   "metadata": {},
   "outputs": [],
   "source": [
    "from ADRpy import atmospheres as at\n",
    "from ADRpy import unitconversions as co\n",
    "\n",
    "# Instantiate an atmosphere object: an ISA with a +10C offset\n",
    "isa = at.Atmosphere(offset_deg=10)\n",
    "\n",
    "# Query the ambient density in this model at 41,000 feet \n",
    "print(\"ISA+10C density at 41,000 feet (geopotential):\", \n",
    "      isa.airdens_kgpm3(co.feet2m(41000)), \"kg/m^3\")"
   ]
  },
  {
   "cell_type": "code",
   "execution_count": null,
   "metadata": {},
   "outputs": [],
   "source": []
  }
 ],
 "metadata": {
  "kernelspec": {
   "display_name": ".venv",
   "language": "python",
   "name": "python3"
  },
  "language_info": {
   "name": "python",
   "version": "3.10.6"
  }
 },
 "nbformat": 4,
 "nbformat_minor": 2
}
